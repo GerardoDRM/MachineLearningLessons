{
 "cells": [
  {
   "cell_type": "markdown",
   "metadata": {},
   "source": [
    "**Delta** \n",
    "\n",
    "A masure of \"how much we wanto a node's value to be different / to be higher or lower to predict almost perfectly given the current training example\".\n",
    "\n",
    "**Weight delta**\n",
    "\n",
    "A derivative based estimate for the direction and amount we should move a weight to redce out node_delta, accounting for scaling, negative reversal and stopping (choose the best direction to correct a weight and have a better prediction on next iteration)\n",
    "\n"
   ]
  },
  {
   "cell_type": "code",
   "execution_count": 7,
   "metadata": {
    "collapsed": true
   },
   "outputs": [],
   "source": [
    "def neural_network(input, weights):\n",
    "    out = 0\n",
    "    for i in range(len(input)):\n",
    "        out += (input[i] * weights[i])\n",
    "    return out"
   ]
  },
  {
   "cell_type": "code",
   "execution_count": 8,
   "metadata": {
    "collapsed": true
   },
   "outputs": [],
   "source": [
    "def ele_mul(scalar, vector):\n",
    "    out = [0,0,0]\n",
    "    for i in range(len(out)):\n",
    "        out[i] = vector[i] * scalar\n",
    "    return out"
   ]
  },
  {
   "cell_type": "code",
   "execution_count": 9,
   "metadata": {
    "collapsed": false
   },
   "outputs": [
    {
     "name": "stdout",
     "output_type": "stream",
     "text": [
      "Iteration:1\n",
      "Pred:0.91\n",
      "Error:0.008099999999999994\n",
      "Delta:-0.08999999999999997\n",
      "Weights:[0.1, 0.2, -0.1]\n",
      "Weight_Deltas:\n",
      "[-0.7649999999999997, -0.08099999999999997, -0.10799999999999996]\n",
      "Iteration:2\n",
      "Pred:1.5804999999999998\n",
      "Error:0.33698024999999976\n",
      "Delta:0.5804999999999998\n",
      "Weights:[0.1765, 0.2081, -0.0892]\n",
      "Weight_Deltas:\n",
      "[4.934249999999999, 0.5224499999999999, 0.6965999999999998]\n",
      "Iteration:3\n",
      "Pred:-2.744224999999999\n",
      "Error:14.019220850624992\n",
      "Delta:-3.744224999999999\n",
      "Weights:[-0.3169249999999999, 0.15585500000000002, -0.15886]\n",
      "Weight_Deltas:\n",
      "[-31.82591249999999, -3.369802499999999, -4.493069999999999]\n"
     ]
    }
   ],
   "source": [
    "# Example Gradient Descent with multiple inputs\n",
    "\n",
    "toes = [8.5, 9.5, 9.9, 9.0]\n",
    "wlrec = [0.9, 0.8, 0.8, 0.9]\n",
    "nfans = [1.2, 1.3, 0.5, 1.0]\n",
    "\n",
    "win_or_lose_binary = [1,1,0,1]\n",
    "true = win_or_lose_binary[0]\n",
    "\n",
    "alpha = 0.1\n",
    "weights = [0.1,0.2,-.1]\n",
    "input = [toes[0], wlrec[0], nfans[0]]\n",
    "\n",
    "for iter in range(3):\n",
    "    pred = neural_network(input, weights)\n",
    "    error = (pred - true) ** 2\n",
    "    delta = pred - true\n",
    "    \n",
    "    weight_deltas = ele_mul(delta, input)\n",
    "    print(\"Iteration:\" + str(iter+1))\n",
    "    print(\"Pred:\" + str(pred))\n",
    "    print(\"Error:\" + str(error))\n",
    "    print(\"Delta:\" + str(delta))\n",
    "    print(\"Weights:\" + str(weights))\n",
    "    print(\"Weight_Deltas:\")\n",
    "    print(str(weight_deltas))\n",
    "    \n",
    "    for i in range(len(weights)):\n",
    "        weights[i] -=alpha*weight_deltas[i]\n",
    "    \n",
    "    "
   ]
  },
  {
   "cell_type": "code",
   "execution_count": 12,
   "metadata": {
    "collapsed": true
   },
   "outputs": [],
   "source": [
    "def neural_network(input, weights):\n",
    "    pred = ele_mul(input,weights)\n",
    "    return pred"
   ]
  },
  {
   "cell_type": "code",
   "execution_count": 13,
   "metadata": {
    "collapsed": false
   },
   "outputs": [
    {
     "name": "stdout",
     "output_type": "stream",
     "text": [
      "Pred:[0.27, 0.18000000000000002, 0.81]\n",
      "Error:[0.028900000000000006, 0.6723999999999999, 0.5041000000000001]\n",
      "Delta:0.7100000000000001\n",
      "Weights:[0.3, 0.2, 0.9]\n",
      "Weight_Deltas:\n",
      "[0.27, 0.18000000000000002, 0.81]\n"
     ]
    }
   ],
   "source": [
    "#Example Gradient Descent multiple outputs\n",
    "weights = [0.3, 0.2, 0.9]\n",
    "\n",
    "wlrec = [0.9, 1.0, 1.0, 0.9]\n",
    "hurt= [0.1, 0.0, 0.0, 0.1]\n",
    "win= [ 1,1,0,1]\n",
    "sad= [0.1, 0.0, 0.1, 0.2]\n",
    "\n",
    "input = wlrec[0]\n",
    "true = [hurt[0], win[0], sad[0]]\n",
    "\n",
    "pred = neural_network(input,weights)\n",
    "\n",
    "error = [0, 0, 0]\n",
    "delta = [0, 0, 0]\n",
    "for i in range(len(true)):\n",
    "    error[i] = (pred[i] - true[i]) ** 2\n",
    "    delta = pred[i] - true[i]\n",
    "\n",
    "weight_deltas = ele_mul(input,weights)\n",
    "\n",
    "print(\"Pred:\" + str(pred))\n",
    "print(\"Error:\" + str(error))\n",
    "print(\"Delta:\" + str(delta))\n",
    "print(\"Weights:\" + str(weights))\n",
    "print(\"Weight_Deltas:\")\n",
    "print(str(weight_deltas))\n",
    "    \n",
    "alpha = 0.1\n",
    "for i in range(len(weights)):\n",
    "    weights[i] -= (weight_deltas[i] * alpha)"
   ]
  },
  {
   "cell_type": "code",
   "execution_count": null,
   "metadata": {
    "collapsed": true
   },
   "outputs": [],
   "source": []
  }
 ],
 "metadata": {
  "kernelspec": {
   "display_name": "Python 3",
   "language": "python",
   "name": "python3"
  },
  "language_info": {
   "codemirror_mode": {
    "name": "ipython",
    "version": 3
   },
   "file_extension": ".py",
   "mimetype": "text/x-python",
   "name": "python",
   "nbconvert_exporter": "python",
   "pygments_lexer": "ipython3",
   "version": "3.5.4"
  }
 },
 "nbformat": 4,
 "nbformat_minor": 2
}
